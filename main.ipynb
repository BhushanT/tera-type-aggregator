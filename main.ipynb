{
 "cells": [
  {
   "cell_type": "markdown",
   "metadata": {},
   "source": [
    "Aggregator of Terastallization Type Data from play.pokemonshowdown.com\n",
    "Each Pokemon has a raw tera type value, and we can aggregate this data across every pokemon."
   ]
  },
  {
   "cell_type": "code",
   "execution_count": 1,
   "metadata": {},
   "outputs": [],
   "source": [
    "# Fetch the data\n",
    "import requests\n",
    "\n",
    "def get_chaos_data(month, year, tier, rating = \"1630\"):\n",
    "    # https://www.smogon.com/stats/2024-11/chaos/gen9ou-1695.json\n",
    "    if tier == \"gen9ou\":\n",
    "        rating = \"1695\"\n",
    "    url = f\"https://www.smogon.com/stats/{year}-{month}/chaos/{tier}-{rating}.json\"\n",
    "\n",
    "    response = requests.get(url)\n",
    "\n",
    "    if response:\n",
    "        return response.json()\n",
    "    else:\n",
    "        raise Exception(f'Request to {url} failed: {response.status_code}')\n",
    "\n"
   ]
  },
  {
   "cell_type": "code",
   "execution_count": 6,
   "metadata": {},
   "outputs": [
    {
     "name": "stdout",
     "output_type": "stream",
     "text": [
      "dict_keys(['Great Tusk', 'Kingambit', 'Gholdengo', 'Zamazenta', 'Iron Valiant', 'Ting-Lu', 'Dragonite', 'Ogerpon-Wellspring', 'Dragapult', 'Gliscor', 'Roaring Moon', 'Landorus-Therian', 'Slowking-Galar', 'Raging Bolt', 'Iron Moth', 'Pecharunt', 'Samurott-Hisui', 'Kyurem', 'Corviknight', 'Darkrai', 'Cinderace', 'Hatterene', 'Iron Treads', 'Alomomola', 'Clefable', 'Moltres', 'Iron Crown', 'Primarina', 'Dondozo', 'Glimmora', 'Enamorus', 'Zapdos', 'Araquanid', 'Garganacl', 'Walking Wake', 'Weavile', 'Tinkaton', 'Scizor', 'Blissey', 'Garchomp', 'Weezing-Galar', 'Meowscarada', 'Rillaboom', 'Toxapex', 'Deoxys-Speed', 'Ninetales-Alola', 'Latios', 'Clodsire', 'Keldeo', 'Sinistcha', 'Ribombee', 'Skarmory', 'Ceruledge', 'Lokix', 'Ninetales', 'Hydrapple', 'Ursaluna', 'Torkoal', 'Rotom-Wash', 'Amoonguss', 'Heatran', 'Tyranitar', 'Hoopa-Unbound', 'Iron Hands', 'Pelipper', 'Tornadus-Therian', 'Ogerpon-Cornerstone', 'Ogerpon', 'Blaziken', 'Okidogi', 'Hydreigon', 'Manaphy', 'Excadrill', 'Serperior', 'Greninja', 'Mandibuzz', 'Volcanion', 'Skeledirge', 'Hawlucha', 'Latias', 'Barraskewda', 'Fezandipiti', 'Jolteon', 'Quaquaval', 'Thundurus-Therian', 'Cresselia', 'Slither Wing', 'Maushold', 'Azumarill', 'Moltres-Galar', 'Mamoswine', 'Klefki', 'Talonflame', 'Polteageist', 'Venusaur', 'Breloom', 'Empoleon', 'Indeedee', 'Iron Boulder', 'Jirachi', 'Umbreon', 'Goodra-Hisui', 'Zapdos-Galar', 'Mimikyu', 'Grimmsnarl', 'Enamorus-Therian', 'Bronzong', 'Ditto', 'Magnezone', 'Gengar', 'Arcanine-Hisui', 'Kommo-o', 'Klawf', 'Charizard', 'Armarouge', 'Comfey', 'Iron Jugulis', 'Haxorus', 'Reuniclus', 'Overqwil', 'Conkeldurr', 'Scream Tail', 'Lilligant-Hisui', 'Slowking', 'Basculegion', 'Pawmot', 'Chansey', 'Whimsicott', 'Incineroar', 'Sandy Shocks', 'Salamence', 'Iron Thorns', 'Deoxys-Defense', 'Porygon2', 'Cobalion', 'Leavanny', 'Yanmega', 'Chesnaught', 'Mew', 'Diancie', 'Regirock', 'Cloyster', 'Orthworm', 'Malamar', 'Gallade', 'Entei', 'Zoroark-Hisui', 'Milotic', 'Metagross', 'Slowbro', 'Espeon', 'Tentacruel', 'Frosmoth', 'Sylveon', 'Thundurus', 'Slowbro-Galar', 'Muk-Alola', 'Galvantula', 'Azelf', 'Crawdaunt', 'Forretress', 'Hippowdon', 'Pincurchin', 'Typhlosion-Hisui', 'Kleavor', 'Swampert', 'Gardevoir', 'Brute Bonnet', 'Golduck', 'Bellibolt', 'Suicune', 'Florges', 'Scovillain', 'Brambleghast', 'Meloetta', 'Electrode-Hisui', 'Necrozma', 'Kricketune', 'Regidrago', 'Cinccino', 'Kingdra', 'Inteleon', 'Basculegion-F', 'Blastoise', 'Staraptor', 'Iron Leaves', 'Leafeon', 'Feraligatr', 'Zarude', 'Bisharp', 'Rotom-Heat', 'Porygon-Z', 'Smeargle', 'Hattrem', 'Wo-Chien', 'Quagsire', 'Chandelure', 'Gastrodon', 'Salazzle', 'Ludicolo', 'Grafaiai', 'Gyarados', 'Vaporeon', 'Decidueye-Hisui', 'Sneasel-Hisui', 'Munkidori', 'Revavroom', 'Cyclizar', 'Farigiraf', 'Tornadus', 'Infernape', 'Masquerain', 'Vikavolt', 'Toxtricity', 'Jumpluff', 'Glastrier', 'Cetitan', 'Minior', 'Hitmonlee', 'Palossand', 'Sableye', 'Dudunsparce', 'Indeedee-F', 'Politoed', 'Snorlax', 'Lucario', 'Lycanroc-Dusk', 'Drifblim', 'Regigigas', 'Probopass', 'Tsareena', 'Tauros-Paldea-Aqua', 'Glaceon', 'Raikou', 'Tauros-Paldea-Blaze', 'Abomasnow', 'Tatsugiri', 'Vileplume', 'Regice', 'Avalugg', 'Mienshao', 'Sandslash-Alola', 'Oricorio-Pom-Pom', 'Toxicroak', 'Mudsdale', 'Arcanine', 'Eelektross', 'Meowstic', 'Articuno', 'Torterra', 'Krookodile', 'Rhyperior', 'Delphox', 'Houndstone', 'Sceptile', 'Hoopa', 'Kilowattrel', 'Cryogonal', 'Scrafty', 'Exeggutor-Alola', 'Registeel', 'Honchkrow', 'Donphan', 'Oricorio-Sensu', 'Braviary-Hisui', 'Cramorant', 'Heracross', 'Shiftry', 'Golem', 'Primeape', 'Flygon', 'Goodra', 'Uxie', 'Oricorio', 'Hitmontop', 'Noivern', 'Sandaconda', 'Shaymin', 'Dipplin', 'Rabsca', 'Bastiodon', 'Meganium', 'Toedscruel', 'Electivire', 'Toucannon', 'Froslass', 'Beartic', 'Golurk', 'Murkrow', 'Ambipom', 'Rotom', 'Veluza', 'Coalossal', 'Pikachu', 'Medicham', 'Squawkabilly', 'Lapras', 'Raichu-Alola', 'Emboar', 'Avalugg-Hisui', 'Dragalge', 'Zangoose', 'Terrakion', 'Flapple', 'Mabosstiff', 'Floatzel', 'Flamigo', 'Qwilfish', 'Duraludon'])\n"
     ]
    }
   ],
   "source": [
    "\n",
    "from datetime import datetime\n",
    "\n",
    "last_month = \"02\"\n",
    "current_year = 2025\n",
    "POKEMON_TYPES = [\"stellar\", \"bug\", \"dark\", \"dragon\", \"electric\", \"fairy\", \"fighting\", \"fire\", \n",
    "         \"flying\", \"ghost\", \"grass\", \"ground\", \"ice\", \"normal\", \"poison\", \"psychic\", \n",
    "         \"rock\", \"steel\", \"water\"]\n",
    "tera_types = dict.fromkeys(POKEMON_TYPES, 0)\n",
    "\n",
    "OU_data = get_chaos_data(last_month, current_year, \"gen9ou\")\n",
    "\n",
    "print(OU_data[\"data\"].keys())\n",
    "\n"
   ]
  }
 ],
 "metadata": {
  "kernelspec": {
   "display_name": "Python 3",
   "language": "python",
   "name": "python3"
  },
  "language_info": {
   "codemirror_mode": {
    "name": "ipython",
    "version": 3
   },
   "file_extension": ".py",
   "mimetype": "text/x-python",
   "name": "python",
   "nbconvert_exporter": "python",
   "pygments_lexer": "ipython3",
   "version": "3.11.2"
  }
 },
 "nbformat": 4,
 "nbformat_minor": 2
}
